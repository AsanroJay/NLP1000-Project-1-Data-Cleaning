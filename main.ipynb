{
 "cells": [
  {
   "cell_type": "markdown",
   "id": "d683faac",
   "metadata": {},
   "source": [
    "This is the main file for Project 1: Data Cleaning for NLP1000"
   ]
  }
 ],
 "metadata": {
  "language_info": {
   "name": "python"
  }
 },
 "nbformat": 4,
 "nbformat_minor": 5
}
