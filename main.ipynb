{
 "cells": [
  {
   "cell_type": "markdown",
   "id": "d683faac",
   "metadata": {},
   "source": [
    "### Project 1: Data Cleaning for NLP1000 ###\n",
    "#### Group 19: Mansukhani, Asanro Jay E. ####"
   ]
  },
  {
   "cell_type": "markdown",
   "id": "4530774d",
   "metadata": {},
   "source": [
    "The bible texts were scraped from bible.com and biblegateway.com via a custom web scraper I created for each website. \n",
    "Since both websites didn't contain a complete collection for the required 8 + 2N languages which in my case is 10 languages, the cleaning process will differ depending on which website it was scraped from."
   ]
  },
  {
   "cell_type": "code",
   "execution_count": 29,
   "id": "033d4ed1",
   "metadata": {},
   "outputs": [],
   "source": [
    "import importlib\n",
    "import utils\n",
    "\n",
    "importlib.reload(utils)\n",
    "\n",
    "from utils import *\n"
   ]
  },
  {
   "cell_type": "markdown",
   "id": "8a3cd8b6",
   "metadata": {},
   "source": [
    "### Cleaning Tagalog Language Books ###"
   ]
  },
  {
   "cell_type": "code",
   "execution_count": null,
   "id": "51dff3c0",
   "metadata": {},
   "outputs": [],
   "source": [
    "tagalog_raw = \"Bible/Raw/ABTAG2001 - Tagalog/Exodo\"\n",
    "tagalog_cleaned = \"Bible/Cleaned/Tagalog/Exodus\"\n",
    "\n",
    "expressions = [\n",
    "    (r\"\\(\\s*[A-Za-z0-9]+\\s*\\)\",\"\"), #remove parenthesis\n",
    "    (r\"\\[\\s*\\w\\s*\\]\",\"\"),           #remove footnotes\n",
    "    (r\"Read the Bible\\s*Study Tools\\s*Bible Gateway Plus\\s*Explore More\\s*Store\", \"\"), #remove erroneous scrape\n",
    "    \n",
    "]\n",
    "\n",
    "clean_text_folder(tagalog_raw,tagalog_cleaned,expressions) \n"
   ]
  },
  {
   "cell_type": "code",
   "execution_count": null,
   "id": "b32a4d9f",
   "metadata": {},
   "outputs": [],
   "source": [
    "tagalog_raw = \"Bible/Raw/ABTAG2001 - Tagalog/Genesis\"\n",
    "tagalog_cleaned = \"Bible/Cleaned/Tagalog/Genesis\"\n",
    "\n",
    "expressions = [\n",
    "    (r\"\\(\\s*[A-Za-z0-9]+\\s*\\)\",\"\"), #remove parenthesis\n",
    "    (r\"\\[\\s*\\w\\s*\\]\",\"\"),           #remove footnotes\n",
    "    (r\"Read the Bible\\s*Study Tools\\s*Bible Gateway Plus\\s*Explore More\\s*Store\", \"\"), #remove erroneous scrape\n",
    "]\n",
    "\n",
    "clean_text_folder(tagalog_raw,tagalog_cleaned,expressions) \n"
   ]
  }
 ],
 "metadata": {
  "kernelspec": {
   "display_name": "Python 3",
   "language": "python",
   "name": "python3"
  },
  "language_info": {
   "codemirror_mode": {
    "name": "ipython",
    "version": 3
   },
   "file_extension": ".py",
   "mimetype": "text/x-python",
   "name": "python",
   "nbconvert_exporter": "python",
   "pygments_lexer": "ipython3",
   "version": "3.12.4"
  }
 },
 "nbformat": 4,
 "nbformat_minor": 5
}
