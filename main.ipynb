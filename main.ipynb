{
 "cells": [
  {
   "cell_type": "markdown",
   "id": "d683faac",
   "metadata": {},
   "source": [
    "### Project 1: Data Cleaning for NLP1000 ###\n",
    "#### Group 19: Mansukhani, Asanro Jay E. ####"
   ]
  },
  {
   "cell_type": "markdown",
   "id": "4530774d",
   "metadata": {},
   "source": [
    "The bible texts were scraped from bible.com and biblegateway.com via a custom web scraper I created for each website. \n",
    "Since both websites didn't contain a complete collection for the required 8 + 2N languages which in my case is 10 languages, the cleaning process will differ depending on which website it was scraped from."
   ]
  },
  {
   "cell_type": "code",
   "execution_count": 34,
   "id": "033d4ed1",
   "metadata": {},
   "outputs": [],
   "source": [
    "import importlib\n",
    "import utils\n",
    "\n",
    "importlib.reload(utils)\n",
    "\n",
    "from utils import *\n"
   ]
  },
  {
   "cell_type": "markdown",
   "id": "8a3cd8b6",
   "metadata": {},
   "source": [
    "### Cleaning Tagalog Language Books ###\n",
    "Tagalog book was scraped from biblegateway.com"
   ]
  },
  {
   "cell_type": "markdown",
   "id": "ec7007b1",
   "metadata": {},
   "source": [
    "Exodus"
   ]
  },
  {
   "cell_type": "code",
   "execution_count": 35,
   "id": "51dff3c0",
   "metadata": {},
   "outputs": [
    {
     "name": "stdout",
     "output_type": "stream",
     "text": [
      "Cleaned: Exodo_1.txt\n",
      "Cleaned: Exodo_10.txt\n",
      "Cleaned: Exodo_11.txt\n",
      "Cleaned: Exodo_12.txt\n",
      "Cleaned: Exodo_13.txt\n",
      "Cleaned: Exodo_14.txt\n",
      "Cleaned: Exodo_15.txt\n",
      "Cleaned: Exodo_16.txt\n",
      "Cleaned: Exodo_17.txt\n",
      "Cleaned: Exodo_18.txt\n",
      "Cleaned: Exodo_19.txt\n",
      "Cleaned: Exodo_2.txt\n",
      "Cleaned: Exodo_20.txt\n",
      "Cleaned: Exodo_21.txt\n",
      "Cleaned: Exodo_22.txt\n",
      "Cleaned: Exodo_23.txt\n",
      "Cleaned: Exodo_24.txt\n",
      "Cleaned: Exodo_25.txt\n",
      "Cleaned: Exodo_26.txt\n",
      "Cleaned: Exodo_27.txt\n",
      "Cleaned: Exodo_28.txt\n",
      "Cleaned: Exodo_29.txt\n",
      "Cleaned: Exodo_3.txt\n",
      "Cleaned: Exodo_30.txt\n",
      "Cleaned: Exodo_31.txt\n",
      "Cleaned: Exodo_32.txt\n",
      "Cleaned: Exodo_33.txt\n",
      "Cleaned: Exodo_34.txt\n",
      "Cleaned: Exodo_35.txt\n",
      "Cleaned: Exodo_36.txt\n",
      "Cleaned: Exodo_37.txt\n",
      "Cleaned: Exodo_38.txt\n",
      "Cleaned: Exodo_39.txt\n",
      "Cleaned: Exodo_4.txt\n",
      "Cleaned: Exodo_40.txt\n",
      "Cleaned: Exodo_5.txt\n",
      "Cleaned: Exodo_6.txt\n",
      "Cleaned: Exodo_7.txt\n",
      "Cleaned: Exodo_8.txt\n",
      "Cleaned: Exodo_9.txt\n"
     ]
    }
   ],
   "source": [
    "tagalog_raw = \"Bible/Raw/ABTAG2001 - Tagalog/Exodo\"\n",
    "tagalog_cleaned = \"Bible/Cleaned/Tagalog/Exodus\"\n",
    "\n",
    "expressions = [\n",
    "    (r\"\\(\\s*[A-Za-z0-9]+\\s*\\)\",\"\"), #remove parenthesis\n",
    "    (r\"\\[\\s*\\w\\s*\\]\",\"\"),           #remove footnotes\n",
    "    (r\"Read the Bible\\s*Study Tools\\s*Bible Gateway Plus\\s*Explore More\\s*Store\", \"\"), #remove erroneous scrape\n",
    "    (r\"^[A-Za-zÁÉÍÓÚÑÜ].*(?=\\r?\\n\\s*\\d+\\s)\",\"\") #remove chapter title\n",
    "]\n",
    "\n",
    "clean_text_folder(tagalog_raw,tagalog_cleaned,expressions) \n"
   ]
  },
  {
   "cell_type": "markdown",
   "id": "421a153d",
   "metadata": {},
   "source": [
    "Genesis"
   ]
  },
  {
   "cell_type": "code",
   "execution_count": 36,
   "id": "b32a4d9f",
   "metadata": {},
   "outputs": [
    {
     "name": "stdout",
     "output_type": "stream",
     "text": [
      "Cleaned: Genesis_1.txt\n",
      "Cleaned: Genesis_10.txt\n",
      "Cleaned: Genesis_11.txt\n",
      "Cleaned: Genesis_12.txt\n",
      "Cleaned: Genesis_13.txt\n",
      "Cleaned: Genesis_14.txt\n",
      "Cleaned: Genesis_15.txt\n",
      "Cleaned: Genesis_16.txt\n",
      "Cleaned: Genesis_17.txt\n",
      "Cleaned: Genesis_18.txt\n",
      "Cleaned: Genesis_19.txt\n",
      "Cleaned: Genesis_2.txt\n",
      "Cleaned: Genesis_20.txt\n",
      "Cleaned: Genesis_21.txt\n",
      "Cleaned: Genesis_22.txt\n",
      "Cleaned: Genesis_23.txt\n",
      "Cleaned: Genesis_24.txt\n",
      "Cleaned: Genesis_25.txt\n",
      "Cleaned: Genesis_26.txt\n",
      "Cleaned: Genesis_27.txt\n",
      "Cleaned: Genesis_28.txt\n",
      "Cleaned: Genesis_29.txt\n",
      "Cleaned: Genesis_3.txt\n",
      "Cleaned: Genesis_30.txt\n",
      "Cleaned: Genesis_31.txt\n",
      "Cleaned: Genesis_32.txt\n",
      "Cleaned: Genesis_33.txt\n",
      "Cleaned: Genesis_34.txt\n",
      "Cleaned: Genesis_35.txt\n",
      "Cleaned: Genesis_36.txt\n",
      "Cleaned: Genesis_37.txt\n",
      "Cleaned: Genesis_38.txt\n",
      "Cleaned: Genesis_39.txt\n",
      "Cleaned: Genesis_4.txt\n",
      "Cleaned: Genesis_40.txt\n",
      "Cleaned: Genesis_41.txt\n",
      "Cleaned: Genesis_42.txt\n",
      "Cleaned: Genesis_43.txt\n",
      "Cleaned: Genesis_44.txt\n",
      "Cleaned: Genesis_45.txt\n",
      "Cleaned: Genesis_46.txt\n",
      "Cleaned: Genesis_47.txt\n",
      "Cleaned: Genesis_48.txt\n",
      "Cleaned: Genesis_49.txt\n",
      "Cleaned: Genesis_5.txt\n",
      "Cleaned: Genesis_50.txt\n",
      "Cleaned: Genesis_6.txt\n",
      "Cleaned: Genesis_7.txt\n",
      "Cleaned: Genesis_8.txt\n",
      "Cleaned: Genesis_9.txt\n"
     ]
    }
   ],
   "source": [
    "tagalog_raw = \"Bible/Raw/ABTAG2001 - Tagalog/Genesis\"\n",
    "tagalog_cleaned = \"Bible/Cleaned/Tagalog/Genesis\"\n",
    "\n",
    "expressions = [\n",
    "    (r\"\\(\\s*[A-Za-z0-9]+\\s*\\)\",\"\"), #remove parenthesis\n",
    "    (r\"\\[\\s*\\w\\s*\\]\",\"\"),           #remove footnotes\n",
    "    (r\"Read the Bible\\s*Study Tools\\s*Bible Gateway Plus\\s*Explore More\\s*Store\", \"\"), #remove erroneous scrape\n",
    "    (r\"^[A-Za-zÁÉÍÓÚÑÜ].*(?=\\r?\\n\\s*\\d+\\s)\",\"\") #remove chapter title\n",
    "]\n",
    "\n",
    "clean_text_folder(tagalog_raw,tagalog_cleaned,expressions) \n"
   ]
  },
  {
   "cell_type": "markdown",
   "id": "5a65931b",
   "metadata": {},
   "source": [
    "Leviticus"
   ]
  },
  {
   "cell_type": "code",
   "execution_count": 38,
   "id": "009413ab",
   "metadata": {},
   "outputs": [
    {
     "name": "stdout",
     "output_type": "stream",
     "text": [
      "Cleaned: Levitico_1.txt\n",
      "Cleaned: Levitico_10.txt\n",
      "Cleaned: Levitico_11.txt\n",
      "Cleaned: Levitico_12.txt\n",
      "Cleaned: Levitico_13.txt\n",
      "Cleaned: Levitico_14.txt\n",
      "Cleaned: Levitico_15.txt\n",
      "Cleaned: Levitico_16.txt\n",
      "Cleaned: Levitico_17.txt\n",
      "Cleaned: Levitico_18.txt\n",
      "Cleaned: Levitico_19.txt\n",
      "Cleaned: Levitico_2.txt\n",
      "Cleaned: Levitico_20.txt\n",
      "Cleaned: Levitico_21.txt\n",
      "Cleaned: Levitico_22.txt\n",
      "Cleaned: Levitico_23.txt\n",
      "Cleaned: Levitico_24.txt\n",
      "Cleaned: Levitico_25.txt\n",
      "Cleaned: Levitico_26.txt\n",
      "Cleaned: Levitico_27.txt\n",
      "Cleaned: Levitico_3.txt\n",
      "Cleaned: Levitico_4.txt\n",
      "Cleaned: Levitico_5.txt\n",
      "Cleaned: Levitico_6.txt\n",
      "Cleaned: Levitico_7.txt\n",
      "Cleaned: Levitico_8.txt\n",
      "Cleaned: Levitico_9.txt\n"
     ]
    }
   ],
   "source": [
    "tagalog_raw = \"Bible/Raw/ABTAG2001 - Tagalog/Levitico\"\n",
    "tagalog_cleaned = \"Bible/Cleaned/Tagalog/Leviticus\"\n",
    "\n",
    "expressions = [\n",
    "    (r\"\\(\\s*[A-Za-z0-9]+\\s*\\)\",\"\"), #remove parenthesis\n",
    "    (r\"\\[\\s*\\w\\s*\\]\",\"\"),           #remove footnotes\n",
    "    (r\"Read the Bible\\s*Study Tools\\s*Bible Gateway Plus\\s*Explore More\\s*Store\", \"\"), #remove erroneous scrape\n",
    "    (r\"^[A-Za-zÁÉÍÓÚÑÜ].*(?=\\r?\\n\\s*\\d+\\s)\",\"\") #remove chapter title\n",
    "]\n",
    "\n",
    "clean_text_folder(tagalog_raw,tagalog_cleaned,expressions) \n"
   ]
  },
  {
   "cell_type": "markdown",
   "id": "881890fa",
   "metadata": {},
   "source": [
    "### Cleaning Cebuano Language Books ###\n",
    "Cebuano book was scraped from bible.com"
   ]
  },
  {
   "cell_type": "markdown",
   "id": "95dcbb73",
   "metadata": {},
   "source": [
    "Exodus"
   ]
  },
  {
   "cell_type": "code",
   "execution_count": null,
   "id": "45b53288",
   "metadata": {},
   "outputs": [
    {
     "name": "stdout",
     "output_type": "stream",
     "text": [
      "Cleaned: Exodus_1.txt\n",
      "Cleaned: Exodus_10.txt\n",
      "Cleaned: Exodus_11.txt\n",
      "Cleaned: Exodus_12.txt\n",
      "Cleaned: Exodus_13.txt\n",
      "Cleaned: Exodus_14.txt\n",
      "Cleaned: Exodus_15.txt\n",
      "Cleaned: Exodus_16.txt\n",
      "Cleaned: Exodus_17.txt\n",
      "Cleaned: Exodus_18.txt\n",
      "Cleaned: Exodus_19.txt\n",
      "Cleaned: Exodus_2.txt\n",
      "Cleaned: Exodus_20.txt\n",
      "Cleaned: Exodus_21.txt\n",
      "Cleaned: Exodus_22.txt\n",
      "Cleaned: Exodus_23.txt\n",
      "Cleaned: Exodus_24.txt\n",
      "Cleaned: Exodus_25.txt\n",
      "Cleaned: Exodus_26.txt\n",
      "Cleaned: Exodus_27.txt\n",
      "Cleaned: Exodus_28.txt\n",
      "Cleaned: Exodus_29.txt\n",
      "Cleaned: Exodus_3.txt\n",
      "Cleaned: Exodus_30.txt\n",
      "Cleaned: Exodus_31.txt\n",
      "Cleaned: Exodus_32.txt\n",
      "Cleaned: Exodus_33.txt\n",
      "Cleaned: Exodus_34.txt\n",
      "Cleaned: Exodus_35.txt\n",
      "Cleaned: Exodus_36.txt\n",
      "Cleaned: Exodus_37.txt\n",
      "Cleaned: Exodus_38.txt\n",
      "Cleaned: Exodus_39.txt\n",
      "Cleaned: Exodus_4.txt\n",
      "Cleaned: Exodus_40.txt\n",
      "Cleaned: Exodus_5.txt\n",
      "Cleaned: Exodus_6.txt\n",
      "Cleaned: Exodus_7.txt\n",
      "Cleaned: Exodus_8.txt\n",
      "Cleaned: Exodus_9.txt\n"
     ]
    }
   ],
   "source": [
    "cebuano_raw = \"Bible/Raw/ABCEB - Cebuano/Exodus\"\n",
    "cebuano_cleaned = \"Bible/Cleaned/Cebuano/Exodus\"\n",
    "\n",
    "expressions = [\n",
    "] \n",
    "\n",
    "clean_text_folder_no_flatten(cebuano_raw,cebuano_cleaned,expressions)"
   ]
  },
  {
   "cell_type": "markdown",
   "id": "2372ca87",
   "metadata": {},
   "source": [
    "Genesis"
   ]
  },
  {
   "cell_type": "code",
   "execution_count": null,
   "id": "ac9aef05",
   "metadata": {},
   "outputs": [],
   "source": [
    "cebuano_raw = \"Bible/Raw/ABCEB - Cebuano/Genesis\"\n",
    "cebuano_cleaned = \"Bible/Cleaned/Cebuano/Genesis\"\n",
    "\n",
    "expressions = [\n",
    "] \n",
    "\n",
    "clean_text_folder_no_flatten(cebuano_raw,cebuano_cleaned,expressions)"
   ]
  },
  {
   "cell_type": "markdown",
   "id": "c863e9e7",
   "metadata": {},
   "source": [
    "Leviticus"
   ]
  },
  {
   "cell_type": "code",
   "execution_count": 24,
   "id": "cb712b62",
   "metadata": {},
   "outputs": [
    {
     "name": "stdout",
     "output_type": "stream",
     "text": [
      "Cleaned: Leviticus_1.txt\n",
      "Cleaned: Leviticus_10.txt\n",
      "Cleaned: Leviticus_11.txt\n",
      "Cleaned: Leviticus_12.txt\n",
      "Cleaned: Leviticus_13.txt\n",
      "Cleaned: Leviticus_14.txt\n",
      "Cleaned: Leviticus_15.txt\n",
      "Cleaned: Leviticus_16.txt\n",
      "Cleaned: Leviticus_17.txt\n",
      "Cleaned: Leviticus_18.txt\n",
      "Cleaned: Leviticus_19.txt\n",
      "Cleaned: Leviticus_2.txt\n",
      "Cleaned: Leviticus_20.txt\n",
      "Cleaned: Leviticus_21.txt\n",
      "Cleaned: Leviticus_22.txt\n",
      "Cleaned: Leviticus_23.txt\n",
      "Cleaned: Leviticus_24.txt\n",
      "Cleaned: Leviticus_25.txt\n",
      "Cleaned: Leviticus_26.txt\n",
      "Cleaned: Leviticus_27.txt\n",
      "Cleaned: Leviticus_3.txt\n",
      "Cleaned: Leviticus_4.txt\n",
      "Cleaned: Leviticus_5.txt\n",
      "Cleaned: Leviticus_6.txt\n",
      "Cleaned: Leviticus_7.txt\n",
      "Cleaned: Leviticus_8.txt\n",
      "Cleaned: Leviticus_9.txt\n"
     ]
    }
   ],
   "source": [
    "cebuano_raw = \"Bible/Raw/ABCEB - Cebuano/Leviticus\"\n",
    "cebuano_cleaned = \"Bible/Cleaned/Cebuano/Leviticus\"\n",
    "\n",
    "expressions = [\n",
    "] \n",
    "\n",
    "clean_text_folder_no_flatten(cebuano_raw,cebuano_cleaned,expressions)"
   ]
  },
  {
   "cell_type": "markdown",
   "id": "47a28451",
   "metadata": {},
   "source": [
    "### Cleaning Hiligaynon Language Books ###\n",
    "Hiligaynon books were scraped from biblegateway.com"
   ]
  },
  {
   "cell_type": "markdown",
   "id": "9cda3c30",
   "metadata": {},
   "source": [
    "Exodus"
   ]
  },
  {
   "cell_type": "code",
   "execution_count": 39,
   "id": "24d4e9d5",
   "metadata": {},
   "outputs": [
    {
     "name": "stdout",
     "output_type": "stream",
     "text": [
      "Cleaned: Exodus_1.txt\n",
      "Cleaned: Exodus_10.txt\n",
      "Cleaned: Exodus_11.txt\n",
      "Cleaned: Exodus_12.txt\n",
      "Cleaned: Exodus_13.txt\n",
      "Cleaned: Exodus_14.txt\n",
      "Cleaned: Exodus_15.txt\n",
      "Cleaned: Exodus_16.txt\n",
      "Cleaned: Exodus_17.txt\n",
      "Cleaned: Exodus_18.txt\n",
      "Cleaned: Exodus_19.txt\n",
      "Cleaned: Exodus_2.txt\n",
      "Cleaned: Exodus_20.txt\n",
      "Cleaned: Exodus_21.txt\n",
      "Cleaned: Exodus_22.txt\n",
      "Cleaned: Exodus_23.txt\n",
      "Cleaned: Exodus_24.txt\n",
      "Cleaned: Exodus_25.txt\n",
      "Cleaned: Exodus_26.txt\n",
      "Cleaned: Exodus_27.txt\n",
      "Cleaned: Exodus_28.txt\n",
      "Cleaned: Exodus_29.txt\n",
      "Cleaned: Exodus_3.txt\n",
      "Cleaned: Exodus_30.txt\n",
      "Cleaned: Exodus_31.txt\n",
      "Cleaned: Exodus_32.txt\n",
      "Cleaned: Exodus_33.txt\n",
      "Cleaned: Exodus_34.txt\n",
      "Cleaned: Exodus_35.txt\n",
      "Cleaned: Exodus_36.txt\n",
      "Cleaned: Exodus_37.txt\n",
      "Cleaned: Exodus_38.txt\n",
      "Cleaned: Exodus_39.txt\n",
      "Cleaned: Exodus_4.txt\n",
      "Cleaned: Exodus_40.txt\n",
      "Cleaned: Exodus_5.txt\n",
      "Cleaned: Exodus_6.txt\n",
      "Cleaned: Exodus_7.txt\n",
      "Cleaned: Exodus_8.txt\n",
      "Cleaned: Exodus_9.txt\n"
     ]
    }
   ],
   "source": [
    "hlgn_raw = \"Bible/Raw/HLGN - Ilonggo/Exodus\"\n",
    "hlgn_cleaned = \"Bible/Cleaned/Hiligaynon/Exodus\"\n",
    "\n",
    "expressions = [\n",
    "    (r\"\\(\\s*[A-Za-z0-9]+\\s*\\)\",\"\"), #remove parenthesis\n",
    "    (r\"\\[\\s*\\w\\s*\\]\",\"\"),           #remove footnotes\n",
    "    (r\"Read the Bible\\s*Study Tools\\s*Bible Gateway Plus\\s*Explore More\\s*Store\", \"\"), #remove erroneous scrape\n",
    "    (r\"^[A-Za-zÁÉÍÓÚÑÜ].*(?=\\r?\\n\\s*\\d+\\s)\",\"\") #remove chapter title\n",
    "]\n",
    "\n",
    "clean_text_folder(hlgn_raw,hlgn_cleaned,expressions) "
   ]
  },
  {
   "cell_type": "code",
   "execution_count": null,
   "id": "7ff5f37e",
   "metadata": {},
   "outputs": [
    {
     "name": "stdout",
     "output_type": "stream",
     "text": [
      "✔ Cleaned Exodus_1.txt\n",
      "✔ Cleaned Exodus_10.txt\n",
      "✔ Cleaned Exodus_11.txt\n",
      "✔ Cleaned Exodus_12.txt\n",
      "✔ Cleaned Exodus_13.txt\n",
      "✔ Cleaned Exodus_14.txt\n",
      "✔ Cleaned Exodus_15.txt\n",
      "✔ Cleaned Exodus_16.txt\n",
      "✔ Cleaned Exodus_17.txt\n",
      "✔ Cleaned Exodus_18.txt\n",
      "✔ Cleaned Exodus_19.txt\n",
      "✔ Cleaned Exodus_2.txt\n",
      "✔ Cleaned Exodus_20.txt\n",
      "✔ Cleaned Exodus_21.txt\n",
      "✔ Cleaned Exodus_22.txt\n",
      "✔ Cleaned Exodus_23.txt\n",
      "✔ Cleaned Exodus_24.txt\n",
      "✔ Cleaned Exodus_25.txt\n",
      "✔ Cleaned Exodus_26.txt\n",
      "✔ Cleaned Exodus_27.txt\n",
      "✔ Cleaned Exodus_28.txt\n",
      "✔ Cleaned Exodus_29.txt\n",
      "✔ Cleaned Exodus_3.txt\n",
      "✔ Cleaned Exodus_30.txt\n",
      "✔ Cleaned Exodus_31.txt\n",
      "✔ Cleaned Exodus_32.txt\n",
      "✔ Cleaned Exodus_33.txt\n",
      "✔ Cleaned Exodus_34.txt\n",
      "✔ Cleaned Exodus_35.txt\n",
      "✔ Cleaned Exodus_36.txt\n",
      "✔ Cleaned Exodus_37.txt\n",
      "✔ Cleaned Exodus_38.txt\n",
      "✔ Cleaned Exodus_39.txt\n",
      "✔ Cleaned Exodus_4.txt\n",
      "✔ Cleaned Exodus_40.txt\n",
      "✔ Cleaned Exodus_5.txt\n",
      "✔ Cleaned Exodus_6.txt\n",
      "✔ Cleaned Exodus_7.txt\n",
      "✔ Cleaned Exodus_8.txt\n",
      "✔ Cleaned Exodus_9.txt\n"
     ]
    }
   ],
   "source": [
    "clean_verses_in_folder(hlgn_cleaned) #Fix verse numbering bug"
   ]
  },
  {
   "cell_type": "markdown",
   "id": "87e85b15",
   "metadata": {},
   "source": [
    "Genesis"
   ]
  },
  {
   "cell_type": "code",
   "execution_count": 37,
   "id": "8f3cfe08",
   "metadata": {},
   "outputs": [
    {
     "name": "stdout",
     "output_type": "stream",
     "text": [
      "Cleaned: Genesis_1.txt\n",
      "Cleaned: Genesis_10.txt\n",
      "Cleaned: Genesis_11.txt\n",
      "Cleaned: Genesis_12.txt\n",
      "Cleaned: Genesis_13.txt\n",
      "Cleaned: Genesis_14.txt\n",
      "Cleaned: Genesis_15.txt\n",
      "Cleaned: Genesis_16.txt\n",
      "Cleaned: Genesis_17.txt\n",
      "Cleaned: Genesis_18.txt\n",
      "Cleaned: Genesis_19.txt\n",
      "Cleaned: Genesis_2.txt\n",
      "Cleaned: Genesis_20.txt\n",
      "Cleaned: Genesis_21.txt\n",
      "Cleaned: Genesis_22.txt\n",
      "Cleaned: Genesis_23.txt\n",
      "Cleaned: Genesis_24.txt\n",
      "Cleaned: Genesis_25.txt\n",
      "Cleaned: Genesis_26.txt\n",
      "Cleaned: Genesis_27.txt\n",
      "Cleaned: Genesis_28.txt\n",
      "Cleaned: Genesis_29.txt\n",
      "Cleaned: Genesis_3.txt\n",
      "Cleaned: Genesis_30.txt\n",
      "Cleaned: Genesis_31.txt\n",
      "Cleaned: Genesis_32.txt\n",
      "Cleaned: Genesis_33.txt\n",
      "Cleaned: Genesis_34.txt\n",
      "Cleaned: Genesis_35.txt\n",
      "Cleaned: Genesis_36.txt\n",
      "Cleaned: Genesis_37.txt\n",
      "Cleaned: Genesis_38.txt\n",
      "Cleaned: Genesis_39.txt\n",
      "Cleaned: Genesis_4.txt\n",
      "Cleaned: Genesis_40.txt\n",
      "Cleaned: Genesis_41.txt\n",
      "Cleaned: Genesis_42.txt\n",
      "Cleaned: Genesis_43.txt\n",
      "Cleaned: Genesis_44.txt\n",
      "Cleaned: Genesis_45.txt\n",
      "Cleaned: Genesis_46.txt\n",
      "Cleaned: Genesis_47.txt\n",
      "Cleaned: Genesis_48.txt\n",
      "Cleaned: Genesis_49.txt\n",
      "Cleaned: Genesis_5.txt\n",
      "Cleaned: Genesis_50.txt\n",
      "Cleaned: Genesis_6.txt\n",
      "Cleaned: Genesis_7.txt\n",
      "Cleaned: Genesis_8.txt\n",
      "Cleaned: Genesis_9.txt\n"
     ]
    }
   ],
   "source": [
    "hlgn_raw = \"Bible/Raw/HLGN - Ilonggo/Genesis\"\n",
    "hlgn_cleaned = \"Bible/Cleaned/Hiligaynon/Genesis\"\n",
    "\n",
    "expressions = [\n",
    "    (r\"\\(\\s*[A-Za-z0-9]+\\s*\\)\",\"\"), #remove parenthesis\n",
    "    (r\"\\[\\s*\\w\\s*\\]\",\"\"),           #remove footnotes\n",
    "    (r\"Read the Bible\\s*Study Tools\\s*Bible Gateway Plus\\s*Explore More\\s*Store\", \"\"), #remove erroneous scrape\n",
    "    (r\"^[A-Za-zÁÉÍÓÚÑÜ].*(?=\\r?\\n\\s*\\d+\\s)\",\"\") #remove chapter title\n",
    "]\n",
    "\n",
    "clean_text_folder(hlgn_raw,hlgn_cleaned,expressions) "
   ]
  },
  {
   "cell_type": "code",
   "execution_count": 38,
   "id": "fd85a728",
   "metadata": {},
   "outputs": [
    {
     "name": "stdout",
     "output_type": "stream",
     "text": [
      "✔ Cleaned Genesis_1.txt\n",
      "✔ Cleaned Genesis_10.txt\n",
      "✔ Cleaned Genesis_11.txt\n",
      "✔ Cleaned Genesis_12.txt\n",
      "✔ Cleaned Genesis_13.txt\n",
      "✔ Cleaned Genesis_14.txt\n",
      "✔ Cleaned Genesis_15.txt\n",
      "✔ Cleaned Genesis_16.txt\n",
      "✔ Cleaned Genesis_17.txt\n",
      "✔ Cleaned Genesis_18.txt\n",
      "✔ Cleaned Genesis_19.txt\n",
      "✔ Cleaned Genesis_2.txt\n",
      "✔ Cleaned Genesis_20.txt\n",
      "✔ Cleaned Genesis_21.txt\n",
      "✔ Cleaned Genesis_22.txt\n",
      "✔ Cleaned Genesis_23.txt\n",
      "✔ Cleaned Genesis_24.txt\n",
      "✔ Cleaned Genesis_25.txt\n",
      "✔ Cleaned Genesis_26.txt\n",
      "✔ Cleaned Genesis_27.txt\n",
      "✔ Cleaned Genesis_28.txt\n",
      "✔ Cleaned Genesis_29.txt\n",
      "✔ Cleaned Genesis_3.txt\n",
      "✔ Cleaned Genesis_30.txt\n",
      "✔ Cleaned Genesis_31.txt\n",
      "✔ Cleaned Genesis_32.txt\n",
      "✔ Cleaned Genesis_33.txt\n",
      "✔ Cleaned Genesis_34.txt\n",
      "✔ Cleaned Genesis_35.txt\n",
      "✔ Cleaned Genesis_36.txt\n",
      "✔ Cleaned Genesis_37.txt\n",
      "✔ Cleaned Genesis_38.txt\n",
      "✔ Cleaned Genesis_39.txt\n",
      "✔ Cleaned Genesis_4.txt\n",
      "✔ Cleaned Genesis_40.txt\n",
      "✔ Cleaned Genesis_41.txt\n",
      "✔ Cleaned Genesis_42.txt\n",
      "✔ Cleaned Genesis_43.txt\n",
      "✔ Cleaned Genesis_44.txt\n",
      "✔ Cleaned Genesis_45.txt\n",
      "✔ Cleaned Genesis_46.txt\n",
      "✔ Cleaned Genesis_47.txt\n",
      "✔ Cleaned Genesis_48.txt\n",
      "✔ Cleaned Genesis_49.txt\n",
      "✔ Cleaned Genesis_5.txt\n",
      "✔ Cleaned Genesis_50.txt\n",
      "✔ Cleaned Genesis_6.txt\n",
      "✔ Cleaned Genesis_7.txt\n",
      "✔ Cleaned Genesis_8.txt\n",
      "✔ Cleaned Genesis_9.txt\n"
     ]
    }
   ],
   "source": [
    "clean_verses_in_folder(hlgn_cleaned)  #Fix verse numbering bug"
   ]
  },
  {
   "cell_type": "markdown",
   "id": "b337a990",
   "metadata": {},
   "source": [
    "Leviticus"
   ]
  },
  {
   "cell_type": "code",
   "execution_count": 41,
   "id": "dfc6f311",
   "metadata": {},
   "outputs": [
    {
     "name": "stdout",
     "output_type": "stream",
     "text": [
      "Cleaned: Leviticus_1.txt\n",
      "Cleaned: Leviticus_10.txt\n",
      "Cleaned: Leviticus_11.txt\n",
      "Cleaned: Leviticus_12.txt\n",
      "Cleaned: Leviticus_13.txt\n",
      "Cleaned: Leviticus_14.txt\n",
      "Cleaned: Leviticus_15.txt\n",
      "Cleaned: Leviticus_16.txt\n",
      "Cleaned: Leviticus_17.txt\n",
      "Cleaned: Leviticus_18.txt\n",
      "Cleaned: Leviticus_19.txt\n",
      "Cleaned: Leviticus_2.txt\n",
      "Cleaned: Leviticus_20.txt\n",
      "Cleaned: Leviticus_21.txt\n",
      "Cleaned: Leviticus_22.txt\n",
      "Cleaned: Leviticus_23.txt\n",
      "Cleaned: Leviticus_24.txt\n",
      "Cleaned: Leviticus_25.txt\n",
      "Cleaned: Leviticus_26.txt\n",
      "Cleaned: Leviticus_27.txt\n",
      "Cleaned: Leviticus_3.txt\n",
      "Cleaned: Leviticus_4.txt\n",
      "Cleaned: Leviticus_5.txt\n",
      "Cleaned: Leviticus_6.txt\n",
      "Cleaned: Leviticus_7.txt\n",
      "Cleaned: Leviticus_8.txt\n",
      "Cleaned: Leviticus_9.txt\n"
     ]
    }
   ],
   "source": [
    "hlgn_raw = \"Bible/Raw/HLGN - Ilonggo/Leviticus\"\n",
    "hlgn_cleaned = \"Bible/Cleaned/Hiligaynon/Leviticus\"\n",
    "\n",
    "expressions = [\n",
    "    (r\"\\(\\s*[A-Za-z0-9]+\\s*\\)\",\"\"), #remove parenthesis\n",
    "    (r\"\\[\\s*\\w\\s*\\]\",\"\"),           #remove footnotes\n",
    "    (r\"Read the Bible\\s*Study Tools\\s*Bible Gateway Plus\\s*Explore More\\s*Store\", \"\"), #remove erroneous scrape\n",
    "    (r\"^[A-Za-zÁÉÍÓÚÑÜ].*(?=\\r?\\n\\s*\\d+\\s)\",\"\") #remove chapter title\n",
    "]\n",
    "\n",
    "clean_text_folder(hlgn_raw,hlgn_cleaned,expressions) "
   ]
  },
  {
   "cell_type": "code",
   "execution_count": 42,
   "id": "d63ba725",
   "metadata": {},
   "outputs": [
    {
     "name": "stdout",
     "output_type": "stream",
     "text": [
      "✔ Cleaned Leviticus_1.txt\n",
      "✔ Cleaned Leviticus_10.txt\n",
      "✔ Cleaned Leviticus_11.txt\n",
      "✔ Cleaned Leviticus_12.txt\n",
      "✔ Cleaned Leviticus_13.txt\n",
      "✔ Cleaned Leviticus_14.txt\n",
      "✔ Cleaned Leviticus_15.txt\n",
      "✔ Cleaned Leviticus_16.txt\n",
      "✔ Cleaned Leviticus_17.txt\n",
      "✔ Cleaned Leviticus_18.txt\n",
      "✔ Cleaned Leviticus_19.txt\n",
      "✔ Cleaned Leviticus_2.txt\n",
      "✔ Cleaned Leviticus_20.txt\n",
      "✔ Cleaned Leviticus_21.txt\n",
      "✔ Cleaned Leviticus_22.txt\n",
      "✔ Cleaned Leviticus_23.txt\n",
      "✔ Cleaned Leviticus_24.txt\n",
      "✔ Cleaned Leviticus_25.txt\n",
      "✔ Cleaned Leviticus_26.txt\n",
      "✔ Cleaned Leviticus_27.txt\n",
      "✔ Cleaned Leviticus_3.txt\n",
      "✔ Cleaned Leviticus_4.txt\n",
      "✔ Cleaned Leviticus_5.txt\n",
      "✔ Cleaned Leviticus_6.txt\n",
      "✔ Cleaned Leviticus_7.txt\n",
      "✔ Cleaned Leviticus_8.txt\n",
      "✔ Cleaned Leviticus_9.txt\n"
     ]
    }
   ],
   "source": [
    "clean_verses_in_folder(hlgn_cleaned)  #Fix verse numbering bug"
   ]
  }
 ],
 "metadata": {
  "kernelspec": {
   "display_name": "Python 3",
   "language": "python",
   "name": "python3"
  },
  "language_info": {
   "codemirror_mode": {
    "name": "ipython",
    "version": 3
   },
   "file_extension": ".py",
   "mimetype": "text/x-python",
   "name": "python",
   "nbconvert_exporter": "python",
   "pygments_lexer": "ipython3",
   "version": "3.12.4"
  }
 },
 "nbformat": 4,
 "nbformat_minor": 5
}
